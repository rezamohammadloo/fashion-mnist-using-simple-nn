{
  "nbformat": 4,
  "nbformat_minor": 0,
  "metadata": {
    "colab": {
      "provenance": [],
      "authorship_tag": "ABX9TyOZQ+JGEVY2auiEtj6XjTKg",
      "include_colab_link": true
    },
    "kernelspec": {
      "name": "python3",
      "display_name": "Python 3"
    },
    "language_info": {
      "name": "python"
    }
  },
  "cells": [
    {
      "cell_type": "markdown",
      "metadata": {
        "id": "view-in-github",
        "colab_type": "text"
      },
      "source": [
        "<a href=\"https://colab.research.google.com/github/rezamohammadloo/fashion-mnist-using-simple-nn/blob/main/fashionMnistUsingSimpleNN.ipynb\" target=\"_parent\"><img src=\"https://colab.research.google.com/assets/colab-badge.svg\" alt=\"Open In Colab\"/></a>"
      ]
    },
    {
      "cell_type": "code",
      "execution_count": 1,
      "metadata": {
        "id": "l8o5s8Fmveo_"
      },
      "outputs": [],
      "source": [
        "import tensorflow as tf\n",
        "import numpy as np\n"
      ]
    },
    {
      "cell_type": "markdown",
      "source": [
        "This dataset is available directly in the tf.keras.datasets API\n",
        "https://www.tensorflow.org/api_docs/python/tf/keras/datasets"
      ],
      "metadata": {
        "id": "kaE6Qu2Fv3dG"
      }
    },
    {
      "cell_type": "code",
      "source": [
        "#loading dataset\n",
        "fmnist=tf.keras.datasets.fashion_mnist\n",
        "(training_images, training_labels), (test_images, test_labels) = fmnist.load_data()"
      ],
      "metadata": {
        "id": "8RbDNZfNv7rr"
      },
      "execution_count": null,
      "outputs": []
    },
    {
      "cell_type": "markdown",
      "source": [
        "normalizing images:"
      ],
      "metadata": {
        "id": "pNFOFU9YxFLy"
      }
    },
    {
      "cell_type": "code",
      "source": [
        "training_images, test_images= training_images/255.0, test_images/255.0"
      ],
      "metadata": {
        "id": "rlkWYSgxwN5Y"
      },
      "execution_count": 7,
      "outputs": []
    },
    {
      "cell_type": "markdown",
      "source": [
        "builing the classification model"
      ],
      "metadata": {
        "id": "L9yqaNR4xWhM"
      }
    },
    {
      "cell_type": "code",
      "source": [
        "model = tf.keras.models.Sequential([\n",
        "    tf.keras.layers.Flatten(),\n",
        "    tf.keras.layers.Dense(128, activation = tf.nn.relu),\n",
        "    tf.keras.layers.Dense(10,  activation = tf.nn.softmax)\n",
        "])"
      ],
      "metadata": {
        "id": "zzoGUeeMxRIe"
      },
      "execution_count": 8,
      "outputs": []
    },
    {
      "cell_type": "markdown",
      "source": [
        "compiling the model"
      ],
      "metadata": {
        "id": "CNoASZT2yS4-"
      }
    },
    {
      "cell_type": "code",
      "source": [
        "model.compile(optimizer = tf.optimizers.Adam(),\n",
        "              loss = 'sparse_categorical_crossentropy',\n",
        "              metrics= ['accuracy'])\n",
        "model.fit(training_images, training_labels, epochs= 5)"
      ],
      "metadata": {
        "id": "7NrhsGFeyR7g"
      },
      "execution_count": null,
      "outputs": []
    },
    {
      "cell_type": "code",
      "source": [
        "#evaluating the model\n",
        "model.evaluate(test_images, test_labels)"
      ],
      "metadata": {
        "id": "8tw8bBL2y_Jz"
      },
      "execution_count": null,
      "outputs": []
    },
    {
      "cell_type": "code",
      "source": [],
      "metadata": {
        "id": "ll6z18V7znsW"
      },
      "execution_count": null,
      "outputs": []
    }
  ]
}